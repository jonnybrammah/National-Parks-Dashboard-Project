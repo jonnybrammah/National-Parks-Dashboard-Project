{
 "cells": [
  {
   "cell_type": "code",
   "execution_count": 100,
   "id": "dbd7d452",
   "metadata": {},
   "outputs": [],
   "source": [
    "# Import dependencies \n",
    "from splinter import Browser\n",
    "from bs4 import BeautifulSoup as soup\n",
    "import json\n",
    "import requests \n",
    "from pprint import pprint\n",
    "import pandas as pd\n",
    "import tqdm"
   ]
  },
  {
   "cell_type": "code",
   "execution_count": 101,
   "id": "a751f009",
   "metadata": {},
   "outputs": [],
   "source": [
    "combined_responses = []\n",
    "states = ['Arkansas',\n",
    "'Arizona',\n",
    "'California',\n",
    "'Colorado',\n",
    "'Connecticut',\n",
    "'Delaware',\n",
    "'Florida',\n",
    "'Georgia',\n",
    "'Hawaii',\n",
    "'Iowa',\n",
    "'Idaho',\n",
    "'Illinois',\n",
    "'Indiana',\n",
    "'Kansas',\n",
    "'Kentucky',\n",
    "'Louisiana',\n",
    "'Massachusetts',\n",
    "'Maryland',\n",
    "'Maine',\n",
    "'Michigan',\n",
    "'Minnesota',\n",
    "'Missouri',\n",
    "'Mississippi',\n",
    "'Montana',\n",
    "'North Carolina',\n",
    "'North Dakota',\n",
    "'Nebraska',\n",
    "'New Hampshire',\n",
    "'New Jersey',\n",
    "'New Mexico',\n",
    "'Nevada',\n",
    "'New York',\n",
    "'Ohio',\n",
    "'Oklahoma',\n",
    "'Oregon',\n",
    "'Pennsylvania',\n",
    "'Rhode Island',\n",
    "'South Carolina',\n",
    "'South Dakota',\n",
    "'Tennessee',\n",
    "'Texas',\n",
    "'Utah',\n",
    "'Virginia',\n",
    "'Vermont',\n",
    "'Washington',\n",
    "'Wisconsin',\n",
    "'West Virginia',\n",
    "'Wyoming']\n"
   ]
  },
  {
   "cell_type": "code",
   "execution_count": 102,
   "id": "7054ca29",
   "metadata": {},
   "outputs": [
    {
     "name": "stdout",
     "output_type": "stream",
     "text": [
      "{\"error\": {\"code\": \"ACCESS_LIMIT_REACHED\", \"description\": \"You've reached the access limit for this client. See instructions for requesting a higher access limit at https://docs.developer.yelp.com/docs/fusion-rate-limiting\"}}\n",
      "{\"error\": {\"code\": \"ACCESS_LIMIT_REACHED\", \"description\": \"You've reached the access limit for this client. See instructions for requesting a higher access limit at https://docs.developer.yelp.com/docs/fusion-rate-limiting\"}}\n",
      "{\"error\": {\"code\": \"ACCESS_LIMIT_REACHED\", \"description\": \"You've reached the access limit for this client. See instructions for requesting a higher access limit at https://docs.developer.yelp.com/docs/fusion-rate-limiting\"}}\n",
      "{\"error\": {\"code\": \"ACCESS_LIMIT_REACHED\", \"description\": \"You've reached the access limit for this client. See instructions for requesting a higher access limit at https://docs.developer.yelp.com/docs/fusion-rate-limiting\"}}\n",
      "{\"error\": {\"code\": \"ACCESS_LIMIT_REACHED\", \"description\": \"You've reached the access limit for this client. See instructions for requesting a higher access limit at https://docs.developer.yelp.com/docs/fusion-rate-limiting\"}}\n",
      "{\"error\": {\"code\": \"ACCESS_LIMIT_REACHED\", \"description\": \"You've reached the access limit for this client. See instructions for requesting a higher access limit at https://docs.developer.yelp.com/docs/fusion-rate-limiting\"}}\n",
      "{\"error\": {\"code\": \"ACCESS_LIMIT_REACHED\", \"description\": \"You've reached the access limit for this client. See instructions for requesting a higher access limit at https://docs.developer.yelp.com/docs/fusion-rate-limiting\"}}\n",
      "{\"error\": {\"code\": \"ACCESS_LIMIT_REACHED\", \"description\": \"You've reached the access limit for this client. See instructions for requesting a higher access limit at https://docs.developer.yelp.com/docs/fusion-rate-limiting\"}}\n",
      "{\"error\": {\"code\": \"ACCESS_LIMIT_REACHED\", \"description\": \"You've reached the access limit for this client. See instructions for requesting a higher access limit at https://docs.developer.yelp.com/docs/fusion-rate-limiting\"}}\n",
      "{\"error\": {\"code\": \"ACCESS_LIMIT_REACHED\", \"description\": \"You've reached the access limit for this client. See instructions for requesting a higher access limit at https://docs.developer.yelp.com/docs/fusion-rate-limiting\"}}\n",
      "{\"error\": {\"code\": \"ACCESS_LIMIT_REACHED\", \"description\": \"You've reached the access limit for this client. See instructions for requesting a higher access limit at https://docs.developer.yelp.com/docs/fusion-rate-limiting\"}}\n",
      "{\"error\": {\"code\": \"ACCESS_LIMIT_REACHED\", \"description\": \"You've reached the access limit for this client. See instructions for requesting a higher access limit at https://docs.developer.yelp.com/docs/fusion-rate-limiting\"}}\n",
      "{\"error\": {\"code\": \"ACCESS_LIMIT_REACHED\", \"description\": \"You've reached the access limit for this client. See instructions for requesting a higher access limit at https://docs.developer.yelp.com/docs/fusion-rate-limiting\"}}\n",
      "{\"error\": {\"code\": \"ACCESS_LIMIT_REACHED\", \"description\": \"You've reached the access limit for this client. See instructions for requesting a higher access limit at https://docs.developer.yelp.com/docs/fusion-rate-limiting\"}}\n",
      "{\"error\": {\"code\": \"ACCESS_LIMIT_REACHED\", \"description\": \"You've reached the access limit for this client. See instructions for requesting a higher access limit at https://docs.developer.yelp.com/docs/fusion-rate-limiting\"}}\n",
      "{\"error\": {\"code\": \"ACCESS_LIMIT_REACHED\", \"description\": \"You've reached the access limit for this client. See instructions for requesting a higher access limit at https://docs.developer.yelp.com/docs/fusion-rate-limiting\"}}\n",
      "{\"error\": {\"code\": \"ACCESS_LIMIT_REACHED\", \"description\": \"You've reached the access limit for this client. See instructions for requesting a higher access limit at https://docs.developer.yelp.com/docs/fusion-rate-limiting\"}}\n",
      "{\"error\": {\"code\": \"ACCESS_LIMIT_REACHED\", \"description\": \"You've reached the access limit for this client. See instructions for requesting a higher access limit at https://docs.developer.yelp.com/docs/fusion-rate-limiting\"}}\n",
      "{\"error\": {\"code\": \"ACCESS_LIMIT_REACHED\", \"description\": \"You've reached the access limit for this client. See instructions for requesting a higher access limit at https://docs.developer.yelp.com/docs/fusion-rate-limiting\"}}\n",
      "{\"error\": {\"code\": \"ACCESS_LIMIT_REACHED\", \"description\": \"You've reached the access limit for this client. See instructions for requesting a higher access limit at https://docs.developer.yelp.com/docs/fusion-rate-limiting\"}}\n",
      "{\"error\": {\"code\": \"ACCESS_LIMIT_REACHED\", \"description\": \"You've reached the access limit for this client. See instructions for requesting a higher access limit at https://docs.developer.yelp.com/docs/fusion-rate-limiting\"}}\n",
      "{\"error\": {\"code\": \"ACCESS_LIMIT_REACHED\", \"description\": \"You've reached the access limit for this client. See instructions for requesting a higher access limit at https://docs.developer.yelp.com/docs/fusion-rate-limiting\"}}\n",
      "{\"error\": {\"code\": \"ACCESS_LIMIT_REACHED\", \"description\": \"You've reached the access limit for this client. See instructions for requesting a higher access limit at https://docs.developer.yelp.com/docs/fusion-rate-limiting\"}}\n",
      "{\"error\": {\"code\": \"ACCESS_LIMIT_REACHED\", \"description\": \"You've reached the access limit for this client. See instructions for requesting a higher access limit at https://docs.developer.yelp.com/docs/fusion-rate-limiting\"}}\n",
      "{\"error\": {\"code\": \"ACCESS_LIMIT_REACHED\", \"description\": \"You've reached the access limit for this client. See instructions for requesting a higher access limit at https://docs.developer.yelp.com/docs/fusion-rate-limiting\"}}\n",
      "{\"error\": {\"code\": \"ACCESS_LIMIT_REACHED\", \"description\": \"You've reached the access limit for this client. See instructions for requesting a higher access limit at https://docs.developer.yelp.com/docs/fusion-rate-limiting\"}}\n",
      "{\"error\": {\"code\": \"ACCESS_LIMIT_REACHED\", \"description\": \"You've reached the access limit for this client. See instructions for requesting a higher access limit at https://docs.developer.yelp.com/docs/fusion-rate-limiting\"}}\n",
      "{\"error\": {\"code\": \"ACCESS_LIMIT_REACHED\", \"description\": \"You've reached the access limit for this client. See instructions for requesting a higher access limit at https://docs.developer.yelp.com/docs/fusion-rate-limiting\"}}\n",
      "{\"error\": {\"code\": \"ACCESS_LIMIT_REACHED\", \"description\": \"You've reached the access limit for this client. See instructions for requesting a higher access limit at https://docs.developer.yelp.com/docs/fusion-rate-limiting\"}}\n",
      "{\"error\": {\"code\": \"ACCESS_LIMIT_REACHED\", \"description\": \"You've reached the access limit for this client. See instructions for requesting a higher access limit at https://docs.developer.yelp.com/docs/fusion-rate-limiting\"}}\n",
      "{\"error\": {\"code\": \"ACCESS_LIMIT_REACHED\", \"description\": \"You've reached the access limit for this client. See instructions for requesting a higher access limit at https://docs.developer.yelp.com/docs/fusion-rate-limiting\"}}\n",
      "{\"error\": {\"code\": \"ACCESS_LIMIT_REACHED\", \"description\": \"You've reached the access limit for this client. See instructions for requesting a higher access limit at https://docs.developer.yelp.com/docs/fusion-rate-limiting\"}}\n",
      "{\"error\": {\"code\": \"ACCESS_LIMIT_REACHED\", \"description\": \"You've reached the access limit for this client. See instructions for requesting a higher access limit at https://docs.developer.yelp.com/docs/fusion-rate-limiting\"}}\n",
      "{\"error\": {\"code\": \"ACCESS_LIMIT_REACHED\", \"description\": \"You've reached the access limit for this client. See instructions for requesting a higher access limit at https://docs.developer.yelp.com/docs/fusion-rate-limiting\"}}\n",
      "{\"error\": {\"code\": \"ACCESS_LIMIT_REACHED\", \"description\": \"You've reached the access limit for this client. See instructions for requesting a higher access limit at https://docs.developer.yelp.com/docs/fusion-rate-limiting\"}}\n",
      "{\"error\": {\"code\": \"ACCESS_LIMIT_REACHED\", \"description\": \"You've reached the access limit for this client. See instructions for requesting a higher access limit at https://docs.developer.yelp.com/docs/fusion-rate-limiting\"}}\n",
      "{\"error\": {\"code\": \"ACCESS_LIMIT_REACHED\", \"description\": \"You've reached the access limit for this client. See instructions for requesting a higher access limit at https://docs.developer.yelp.com/docs/fusion-rate-limiting\"}}\n",
      "{\"error\": {\"code\": \"ACCESS_LIMIT_REACHED\", \"description\": \"You've reached the access limit for this client. See instructions for requesting a higher access limit at https://docs.developer.yelp.com/docs/fusion-rate-limiting\"}}\n"
     ]
    },
    {
     "name": "stdout",
     "output_type": "stream",
     "text": [
      "{\"error\": {\"code\": \"ACCESS_LIMIT_REACHED\", \"description\": \"You've reached the access limit for this client. See instructions for requesting a higher access limit at https://docs.developer.yelp.com/docs/fusion-rate-limiting\"}}\n",
      "{\"error\": {\"code\": \"ACCESS_LIMIT_REACHED\", \"description\": \"You've reached the access limit for this client. See instructions for requesting a higher access limit at https://docs.developer.yelp.com/docs/fusion-rate-limiting\"}}\n",
      "{\"error\": {\"code\": \"ACCESS_LIMIT_REACHED\", \"description\": \"You've reached the access limit for this client. See instructions for requesting a higher access limit at https://docs.developer.yelp.com/docs/fusion-rate-limiting\"}}\n",
      "{\"error\": {\"code\": \"ACCESS_LIMIT_REACHED\", \"description\": \"You've reached the access limit for this client. See instructions for requesting a higher access limit at https://docs.developer.yelp.com/docs/fusion-rate-limiting\"}}\n",
      "{\"error\": {\"code\": \"ACCESS_LIMIT_REACHED\", \"description\": \"You've reached the access limit for this client. See instructions for requesting a higher access limit at https://docs.developer.yelp.com/docs/fusion-rate-limiting\"}}\n",
      "{\"error\": {\"code\": \"ACCESS_LIMIT_REACHED\", \"description\": \"You've reached the access limit for this client. See instructions for requesting a higher access limit at https://docs.developer.yelp.com/docs/fusion-rate-limiting\"}}\n",
      "{\"error\": {\"code\": \"ACCESS_LIMIT_REACHED\", \"description\": \"You've reached the access limit for this client. See instructions for requesting a higher access limit at https://docs.developer.yelp.com/docs/fusion-rate-limiting\"}}\n",
      "{\"error\": {\"code\": \"ACCESS_LIMIT_REACHED\", \"description\": \"You've reached the access limit for this client. See instructions for requesting a higher access limit at https://docs.developer.yelp.com/docs/fusion-rate-limiting\"}}\n",
      "{\"error\": {\"code\": \"ACCESS_LIMIT_REACHED\", \"description\": \"You've reached the access limit for this client. See instructions for requesting a higher access limit at https://docs.developer.yelp.com/docs/fusion-rate-limiting\"}}\n",
      "{\"error\": {\"code\": \"ACCESS_LIMIT_REACHED\", \"description\": \"You've reached the access limit for this client. See instructions for requesting a higher access limit at https://docs.developer.yelp.com/docs/fusion-rate-limiting\"}}\n"
     ]
    }
   ],
   "source": [
    "#Loop through all states in USA, given you can only get 20 results at a time via yelp API (so searching for USA only gives 20 results)\n",
    "for state in states:\n",
    "    base_url = \"https://api.yelp.com/v3/businesses/search?\"\n",
    "    location = {state} #Loops through states in the USA from the list above\n",
    "    categories = \"NationalPark%2C%20NationalMonument%2C%20NationalMemorial%2C%20NationalPreserve%2C%20HistoricSite&sort_by=best_match\"\n",
    "    term = \"National%Park\"\n",
    "    headers = {\n",
    "        \"accept\": \"application/json\",\n",
    "         \"authorization\": f\"Bearer {api_key}\"\n",
    "            }\n",
    "    response = requests.get(url, headers=headers)\n",
    "    print(response.text)\n",
    "    combined_responses.append(response.text)\n"
   ]
  },
  {
   "cell_type": "code",
   "execution_count": 103,
   "id": "86cc43bb",
   "metadata": {},
   "outputs": [
    {
     "data": {
      "text/plain": [
       "['{\"error\": {\"code\": \"ACCESS_LIMIT_REACHED\", \"description\": \"You\\'ve reached the access limit for this client. See instructions for requesting a higher access limit at https://docs.developer.yelp.com/docs/fusion-rate-limiting\"}}',\n",
       " '{\"error\": {\"code\": \"ACCESS_LIMIT_REACHED\", \"description\": \"You\\'ve reached the access limit for this client. See instructions for requesting a higher access limit at https://docs.developer.yelp.com/docs/fusion-rate-limiting\"}}',\n",
       " '{\"error\": {\"code\": \"ACCESS_LIMIT_REACHED\", \"description\": \"You\\'ve reached the access limit for this client. See instructions for requesting a higher access limit at https://docs.developer.yelp.com/docs/fusion-rate-limiting\"}}',\n",
       " '{\"error\": {\"code\": \"ACCESS_LIMIT_REACHED\", \"description\": \"You\\'ve reached the access limit for this client. See instructions for requesting a higher access limit at https://docs.developer.yelp.com/docs/fusion-rate-limiting\"}}',\n",
       " '{\"error\": {\"code\": \"ACCESS_LIMIT_REACHED\", \"description\": \"You\\'ve reached the access limit for this client. See instructions for requesting a higher access limit at https://docs.developer.yelp.com/docs/fusion-rate-limiting\"}}',\n",
       " '{\"error\": {\"code\": \"ACCESS_LIMIT_REACHED\", \"description\": \"You\\'ve reached the access limit for this client. See instructions for requesting a higher access limit at https://docs.developer.yelp.com/docs/fusion-rate-limiting\"}}',\n",
       " '{\"error\": {\"code\": \"ACCESS_LIMIT_REACHED\", \"description\": \"You\\'ve reached the access limit for this client. See instructions for requesting a higher access limit at https://docs.developer.yelp.com/docs/fusion-rate-limiting\"}}',\n",
       " '{\"error\": {\"code\": \"ACCESS_LIMIT_REACHED\", \"description\": \"You\\'ve reached the access limit for this client. See instructions for requesting a higher access limit at https://docs.developer.yelp.com/docs/fusion-rate-limiting\"}}',\n",
       " '{\"error\": {\"code\": \"ACCESS_LIMIT_REACHED\", \"description\": \"You\\'ve reached the access limit for this client. See instructions for requesting a higher access limit at https://docs.developer.yelp.com/docs/fusion-rate-limiting\"}}',\n",
       " '{\"error\": {\"code\": \"ACCESS_LIMIT_REACHED\", \"description\": \"You\\'ve reached the access limit for this client. See instructions for requesting a higher access limit at https://docs.developer.yelp.com/docs/fusion-rate-limiting\"}}',\n",
       " '{\"error\": {\"code\": \"ACCESS_LIMIT_REACHED\", \"description\": \"You\\'ve reached the access limit for this client. See instructions for requesting a higher access limit at https://docs.developer.yelp.com/docs/fusion-rate-limiting\"}}',\n",
       " '{\"error\": {\"code\": \"ACCESS_LIMIT_REACHED\", \"description\": \"You\\'ve reached the access limit for this client. See instructions for requesting a higher access limit at https://docs.developer.yelp.com/docs/fusion-rate-limiting\"}}',\n",
       " '{\"error\": {\"code\": \"ACCESS_LIMIT_REACHED\", \"description\": \"You\\'ve reached the access limit for this client. See instructions for requesting a higher access limit at https://docs.developer.yelp.com/docs/fusion-rate-limiting\"}}',\n",
       " '{\"error\": {\"code\": \"ACCESS_LIMIT_REACHED\", \"description\": \"You\\'ve reached the access limit for this client. See instructions for requesting a higher access limit at https://docs.developer.yelp.com/docs/fusion-rate-limiting\"}}',\n",
       " '{\"error\": {\"code\": \"ACCESS_LIMIT_REACHED\", \"description\": \"You\\'ve reached the access limit for this client. See instructions for requesting a higher access limit at https://docs.developer.yelp.com/docs/fusion-rate-limiting\"}}',\n",
       " '{\"error\": {\"code\": \"ACCESS_LIMIT_REACHED\", \"description\": \"You\\'ve reached the access limit for this client. See instructions for requesting a higher access limit at https://docs.developer.yelp.com/docs/fusion-rate-limiting\"}}',\n",
       " '{\"error\": {\"code\": \"ACCESS_LIMIT_REACHED\", \"description\": \"You\\'ve reached the access limit for this client. See instructions for requesting a higher access limit at https://docs.developer.yelp.com/docs/fusion-rate-limiting\"}}',\n",
       " '{\"error\": {\"code\": \"ACCESS_LIMIT_REACHED\", \"description\": \"You\\'ve reached the access limit for this client. See instructions for requesting a higher access limit at https://docs.developer.yelp.com/docs/fusion-rate-limiting\"}}',\n",
       " '{\"error\": {\"code\": \"ACCESS_LIMIT_REACHED\", \"description\": \"You\\'ve reached the access limit for this client. See instructions for requesting a higher access limit at https://docs.developer.yelp.com/docs/fusion-rate-limiting\"}}',\n",
       " '{\"error\": {\"code\": \"ACCESS_LIMIT_REACHED\", \"description\": \"You\\'ve reached the access limit for this client. See instructions for requesting a higher access limit at https://docs.developer.yelp.com/docs/fusion-rate-limiting\"}}',\n",
       " '{\"error\": {\"code\": \"ACCESS_LIMIT_REACHED\", \"description\": \"You\\'ve reached the access limit for this client. See instructions for requesting a higher access limit at https://docs.developer.yelp.com/docs/fusion-rate-limiting\"}}',\n",
       " '{\"error\": {\"code\": \"ACCESS_LIMIT_REACHED\", \"description\": \"You\\'ve reached the access limit for this client. See instructions for requesting a higher access limit at https://docs.developer.yelp.com/docs/fusion-rate-limiting\"}}',\n",
       " '{\"error\": {\"code\": \"ACCESS_LIMIT_REACHED\", \"description\": \"You\\'ve reached the access limit for this client. See instructions for requesting a higher access limit at https://docs.developer.yelp.com/docs/fusion-rate-limiting\"}}',\n",
       " '{\"error\": {\"code\": \"ACCESS_LIMIT_REACHED\", \"description\": \"You\\'ve reached the access limit for this client. See instructions for requesting a higher access limit at https://docs.developer.yelp.com/docs/fusion-rate-limiting\"}}',\n",
       " '{\"error\": {\"code\": \"ACCESS_LIMIT_REACHED\", \"description\": \"You\\'ve reached the access limit for this client. See instructions for requesting a higher access limit at https://docs.developer.yelp.com/docs/fusion-rate-limiting\"}}',\n",
       " '{\"error\": {\"code\": \"ACCESS_LIMIT_REACHED\", \"description\": \"You\\'ve reached the access limit for this client. See instructions for requesting a higher access limit at https://docs.developer.yelp.com/docs/fusion-rate-limiting\"}}',\n",
       " '{\"error\": {\"code\": \"ACCESS_LIMIT_REACHED\", \"description\": \"You\\'ve reached the access limit for this client. See instructions for requesting a higher access limit at https://docs.developer.yelp.com/docs/fusion-rate-limiting\"}}',\n",
       " '{\"error\": {\"code\": \"ACCESS_LIMIT_REACHED\", \"description\": \"You\\'ve reached the access limit for this client. See instructions for requesting a higher access limit at https://docs.developer.yelp.com/docs/fusion-rate-limiting\"}}',\n",
       " '{\"error\": {\"code\": \"ACCESS_LIMIT_REACHED\", \"description\": \"You\\'ve reached the access limit for this client. See instructions for requesting a higher access limit at https://docs.developer.yelp.com/docs/fusion-rate-limiting\"}}',\n",
       " '{\"error\": {\"code\": \"ACCESS_LIMIT_REACHED\", \"description\": \"You\\'ve reached the access limit for this client. See instructions for requesting a higher access limit at https://docs.developer.yelp.com/docs/fusion-rate-limiting\"}}',\n",
       " '{\"error\": {\"code\": \"ACCESS_LIMIT_REACHED\", \"description\": \"You\\'ve reached the access limit for this client. See instructions for requesting a higher access limit at https://docs.developer.yelp.com/docs/fusion-rate-limiting\"}}',\n",
       " '{\"error\": {\"code\": \"ACCESS_LIMIT_REACHED\", \"description\": \"You\\'ve reached the access limit for this client. See instructions for requesting a higher access limit at https://docs.developer.yelp.com/docs/fusion-rate-limiting\"}}',\n",
       " '{\"error\": {\"code\": \"ACCESS_LIMIT_REACHED\", \"description\": \"You\\'ve reached the access limit for this client. See instructions for requesting a higher access limit at https://docs.developer.yelp.com/docs/fusion-rate-limiting\"}}',\n",
       " '{\"error\": {\"code\": \"ACCESS_LIMIT_REACHED\", \"description\": \"You\\'ve reached the access limit for this client. See instructions for requesting a higher access limit at https://docs.developer.yelp.com/docs/fusion-rate-limiting\"}}',\n",
       " '{\"error\": {\"code\": \"ACCESS_LIMIT_REACHED\", \"description\": \"You\\'ve reached the access limit for this client. See instructions for requesting a higher access limit at https://docs.developer.yelp.com/docs/fusion-rate-limiting\"}}',\n",
       " '{\"error\": {\"code\": \"ACCESS_LIMIT_REACHED\", \"description\": \"You\\'ve reached the access limit for this client. See instructions for requesting a higher access limit at https://docs.developer.yelp.com/docs/fusion-rate-limiting\"}}',\n",
       " '{\"error\": {\"code\": \"ACCESS_LIMIT_REACHED\", \"description\": \"You\\'ve reached the access limit for this client. See instructions for requesting a higher access limit at https://docs.developer.yelp.com/docs/fusion-rate-limiting\"}}',\n",
       " '{\"error\": {\"code\": \"ACCESS_LIMIT_REACHED\", \"description\": \"You\\'ve reached the access limit for this client. See instructions for requesting a higher access limit at https://docs.developer.yelp.com/docs/fusion-rate-limiting\"}}',\n",
       " '{\"error\": {\"code\": \"ACCESS_LIMIT_REACHED\", \"description\": \"You\\'ve reached the access limit for this client. See instructions for requesting a higher access limit at https://docs.developer.yelp.com/docs/fusion-rate-limiting\"}}',\n",
       " '{\"error\": {\"code\": \"ACCESS_LIMIT_REACHED\", \"description\": \"You\\'ve reached the access limit for this client. See instructions for requesting a higher access limit at https://docs.developer.yelp.com/docs/fusion-rate-limiting\"}}',\n",
       " '{\"error\": {\"code\": \"ACCESS_LIMIT_REACHED\", \"description\": \"You\\'ve reached the access limit for this client. See instructions for requesting a higher access limit at https://docs.developer.yelp.com/docs/fusion-rate-limiting\"}}',\n",
       " '{\"error\": {\"code\": \"ACCESS_LIMIT_REACHED\", \"description\": \"You\\'ve reached the access limit for this client. See instructions for requesting a higher access limit at https://docs.developer.yelp.com/docs/fusion-rate-limiting\"}}',\n",
       " '{\"error\": {\"code\": \"ACCESS_LIMIT_REACHED\", \"description\": \"You\\'ve reached the access limit for this client. See instructions for requesting a higher access limit at https://docs.developer.yelp.com/docs/fusion-rate-limiting\"}}',\n",
       " '{\"error\": {\"code\": \"ACCESS_LIMIT_REACHED\", \"description\": \"You\\'ve reached the access limit for this client. See instructions for requesting a higher access limit at https://docs.developer.yelp.com/docs/fusion-rate-limiting\"}}',\n",
       " '{\"error\": {\"code\": \"ACCESS_LIMIT_REACHED\", \"description\": \"You\\'ve reached the access limit for this client. See instructions for requesting a higher access limit at https://docs.developer.yelp.com/docs/fusion-rate-limiting\"}}',\n",
       " '{\"error\": {\"code\": \"ACCESS_LIMIT_REACHED\", \"description\": \"You\\'ve reached the access limit for this client. See instructions for requesting a higher access limit at https://docs.developer.yelp.com/docs/fusion-rate-limiting\"}}',\n",
       " '{\"error\": {\"code\": \"ACCESS_LIMIT_REACHED\", \"description\": \"You\\'ve reached the access limit for this client. See instructions for requesting a higher access limit at https://docs.developer.yelp.com/docs/fusion-rate-limiting\"}}',\n",
       " '{\"error\": {\"code\": \"ACCESS_LIMIT_REACHED\", \"description\": \"You\\'ve reached the access limit for this client. See instructions for requesting a higher access limit at https://docs.developer.yelp.com/docs/fusion-rate-limiting\"}}']"
      ]
     },
     "execution_count": 103,
     "metadata": {},
     "output_type": "execute_result"
    }
   ],
   "source": [
    "# Print combined responses - notably, there are single quotes separating the list items so we need to use json.loads later on\n",
    "combined_responses"
   ]
  },
  {
   "cell_type": "code",
   "execution_count": 104,
   "id": "08a2b8bc",
   "metadata": {},
   "outputs": [
    {
     "data": {
      "text/plain": [
       "48"
      ]
     },
     "execution_count": 104,
     "metadata": {},
     "output_type": "execute_result"
    }
   ],
   "source": [
    "# Check length of combined responses to ensure it only looped through the 50 states one time\n",
    "len(combined_responses)"
   ]
  },
  {
   "cell_type": "code",
   "execution_count": 105,
   "id": "60002c94",
   "metadata": {},
   "outputs": [
    {
     "ename": "KeyError",
     "evalue": "'businesses'",
     "output_type": "error",
     "traceback": [
      "\u001b[1;31m---------------------------------------------------------------------------\u001b[0m",
      "\u001b[1;31mKeyError\u001b[0m                                  Traceback (most recent call last)",
      "\u001b[1;32m~\\AppData\\Local\\Temp\\ipykernel_8728\\3518456645.py\u001b[0m in \u001b[0;36m<module>\u001b[1;34m\u001b[0m\n\u001b[0;32m      3\u001b[0m \u001b[1;31m# Extract needed columns\u001b[0m\u001b[1;33m\u001b[0m\u001b[1;33m\u001b[0m\u001b[0m\n\u001b[0;32m      4\u001b[0m \u001b[0mparsed_data\u001b[0m \u001b[1;33m=\u001b[0m \u001b[0mjson\u001b[0m\u001b[1;33m.\u001b[0m\u001b[0mloads\u001b[0m\u001b[1;33m(\u001b[0m\u001b[0mdata\u001b[0m\u001b[1;33m)\u001b[0m\u001b[1;33m\u001b[0m\u001b[1;33m\u001b[0m\u001b[0m\n\u001b[1;32m----> 5\u001b[1;33m \u001b[0mbusiness_name\u001b[0m \u001b[1;33m=\u001b[0m \u001b[1;33m[\u001b[0m\u001b[0mbusiness\u001b[0m\u001b[1;33m[\u001b[0m\u001b[1;34m\"name\"\u001b[0m\u001b[1;33m]\u001b[0m \u001b[1;32mfor\u001b[0m \u001b[0mbusiness\u001b[0m \u001b[1;32min\u001b[0m \u001b[0mparsed_data\u001b[0m\u001b[1;33m[\u001b[0m\u001b[1;34m\"businesses\"\u001b[0m\u001b[1;33m]\u001b[0m\u001b[1;33m]\u001b[0m\u001b[1;33m\u001b[0m\u001b[1;33m\u001b[0m\u001b[0m\n\u001b[0m\u001b[0;32m      6\u001b[0m \u001b[0mids\u001b[0m \u001b[1;33m=\u001b[0m \u001b[1;33m[\u001b[0m\u001b[0mbusiness\u001b[0m\u001b[1;33m[\u001b[0m\u001b[1;34m\"id\"\u001b[0m\u001b[1;33m]\u001b[0m \u001b[1;32mfor\u001b[0m \u001b[0mbusiness\u001b[0m \u001b[1;32min\u001b[0m \u001b[0mparsed_data\u001b[0m\u001b[1;33m[\u001b[0m\u001b[1;34m\"businesses\"\u001b[0m\u001b[1;33m]\u001b[0m\u001b[1;33m]\u001b[0m\u001b[1;33m\u001b[0m\u001b[1;33m\u001b[0m\u001b[0m\n\u001b[0;32m      7\u001b[0m \u001b[0mrating\u001b[0m \u001b[1;33m=\u001b[0m \u001b[1;33m[\u001b[0m\u001b[0mbusiness\u001b[0m\u001b[1;33m[\u001b[0m\u001b[1;34m\"rating\"\u001b[0m\u001b[1;33m]\u001b[0m \u001b[1;32mfor\u001b[0m \u001b[0mbusiness\u001b[0m \u001b[1;32min\u001b[0m \u001b[0mparsed_data\u001b[0m\u001b[1;33m[\u001b[0m\u001b[1;34m\"businesses\"\u001b[0m\u001b[1;33m]\u001b[0m\u001b[1;33m]\u001b[0m\u001b[1;33m\u001b[0m\u001b[1;33m\u001b[0m\u001b[0m\n",
      "\u001b[1;31mKeyError\u001b[0m: 'businesses'"
     ]
    }
   ],
   "source": [
    "#Create a df for one state to try\n",
    "data = combined_responses[0]\n",
    "# Extract needed columns\n",
    "parsed_data = json.loads(data)\n",
    "business_name = [business[\"name\"] for business in parsed_data[\"businesses\"]]\n",
    "ids = [business[\"id\"] for business in parsed_data[\"businesses\"]]\n",
    "rating = [business[\"rating\"] for business in parsed_data[\"businesses\"]]\n",
    "url = [business[\"url\"] for business in parsed_data[\"businesses\"]]\n",
    "state = [business[\"location\"][\"state\"] for business in parsed_data[\"businesses\"]]\n",
    "country = [business[\"location\"][\"country\"] for business in parsed_data[\"businesses\"]]\n",
    "latitude = [business[\"coordinates\"][\"latitude\"] for business in parsed_data[\"businesses\"]]\n",
    "longitude = [business[\"coordinates\"][\"longitude\"] for business in parsed_data[\"businesses\"]]\n",
    "\n",
    "# Put them into a dataframe\n",
    "yelp_df = pd.DataFrame({\n",
    "    \"Name\": business_name,\n",
    "    \"Business Id\": ids,\n",
    "    \"Rating\": rating,\n",
    "    \"Url\": url,\n",
    "    \"State\": state,\n",
    "    \"Country\": country,\n",
    "    \"Latitude\": latitude,\n",
    "    \"Longitude\": longitude\n",
    "})\n",
    "\n",
    "# Round latitude and Longitude to 2 decimal points\n",
    "yelp_df[\"Latitude\"] = round(yelp_df[\"Latitude\"],2)\n",
    "yelp_df[\"Longitude\"] = round(yelp_df[\"Longitude\"],2)\n",
    "\n",
    "#Print Dataframe to get output\n",
    "yelp_df\n"
   ]
  },
  {
   "cell_type": "code",
   "execution_count": null,
   "id": "57caff8a",
   "metadata": {},
   "outputs": [],
   "source": [
    "#Create a df for one state to try\n",
    "combined_responses\n",
    "df_list = []\n",
    "for i in tqdm.tqdm(range(0,50)):\n",
    "    try:\n",
    "        data = combined_responses[i]\n",
    "        # Extract needed columns\n",
    "        parsed_data = json.loads(data)\n",
    "        business_name = [business[\"name\"] for business in parsed_data[\"businesses\"]]\n",
    "        ids = [business[\"id\"] for business in parsed_data[\"businesses\"]]\n",
    "        rating = [business[\"rating\"] for business in parsed_data[\"businesses\"]]\n",
    "        url = [business[\"url\"] for business in parsed_data[\"businesses\"]]\n",
    "        state = [business[\"location\"][\"state\"] for business in parsed_data[\"businesses\"]]\n",
    "        country = [business[\"location\"][\"country\"] for business in parsed_data[\"businesses\"]]\n",
    "        latitude = [business[\"coordinates\"][\"latitude\"] for business in parsed_data[\"businesses\"]]\n",
    "        longitude = [business[\"coordinates\"][\"longitude\"] for business in parsed_data[\"businesses\"]]\n",
    "    except:\n",
    "        print(f\"This API call returned an error\")\n",
    "\n",
    "    # Put them into a dataframe\n",
    "    yelp_df = pd.DataFrame({\n",
    "        \"Name\": business_name,\n",
    "        \"Business Id\": ids,\n",
    "        \"Rating\": rating,\n",
    "        \"Url\": url,\n",
    "        \"State\": state,\n",
    "        \"Country\": country,\n",
    "        \"Latitude\": latitude,\n",
    "        \"Longitude\": longitude\n",
    "    })\n",
    "\n",
    "    # Round latitude and Longitude to 2 decimal points\n",
    "    yelp_df[\"Latitude\"] = round(yelp_df[\"Latitude\"],2)\n",
    "    yelp_df[\"Longitude\"] = round(yelp_df[\"Longitude\"],2)\n",
    "\n",
    "    #Print Dataframe to get output\n",
    "    df_list.append(yelp_df)\n",
    "\n",
    "df_list\n"
   ]
  },
  {
   "cell_type": "code",
   "execution_count": null,
   "id": "d969515a",
   "metadata": {},
   "outputs": [],
   "source": [
    "# Create a final dataframe by concatenating the list of dataframes together\n",
    "final_yelp_df = pd.concat(df_list)"
   ]
  },
  {
   "cell_type": "code",
   "execution_count": null,
   "id": "bfe30a32",
   "metadata": {},
   "outputs": [],
   "source": [
    "final_yelp_df.columns"
   ]
  },
  {
   "cell_type": "code",
   "execution_count": null,
   "id": "168a4ad1",
   "metadata": {},
   "outputs": [],
   "source": [
    "# Checks the unique states and length of the list (it is 49, so we have 50 states)\n",
    "final_yelp_df[\"State\"].unique()\n",
    "len(final_yelp_df[\"State\"].unique())"
   ]
  },
  {
   "cell_type": "code",
   "execution_count": null,
   "id": "8b62aceb",
   "metadata": {},
   "outputs": [],
   "source": [
    "# Checks the unique countries and length of the list (it is 1 - only the USA)\n",
    "# We did this because Canada was previously coming through when searching for CA only, and not CA, USA\n",
    "final_yelp_df[\"Country\"].unique()\n",
    "len(final_yelp_df[\"Country\"].unique())"
   ]
  },
  {
   "cell_type": "code",
   "execution_count": null,
   "id": "bd96f41a",
   "metadata": {},
   "outputs": [],
   "source": [
    "# Checks the unique list of names\n",
    "final_yelp_df[\"Name\"].unique()\n",
    "len(final_yelp_df[\"Name\"].unique())\n",
    "print(final_yelp_df[\"Name\"].unique())"
   ]
  },
  {
   "cell_type": "code",
   "execution_count": null,
   "id": "9c789500",
   "metadata": {},
   "outputs": [],
   "source": [
    "final_yelp_df.to_csv(\"../Output/yelp_data.csv\", encoding='utf8', index=False)"
   ]
  }
 ],
 "metadata": {
  "kernelspec": {
   "display_name": "PythonData",
   "language": "python",
   "name": "pythondata"
  },
  "language_info": {
   "codemirror_mode": {
    "name": "ipython",
    "version": 3
   },
   "file_extension": ".py",
   "mimetype": "text/x-python",
   "name": "python",
   "nbconvert_exporter": "python",
   "pygments_lexer": "ipython3",
   "version": "3.9.13"
  }
 },
 "nbformat": 4,
 "nbformat_minor": 5
}
