{
 "cells": [
  {
   "cell_type": "code",
   "execution_count": null,
   "id": "d1554ab2",
   "metadata": {},
   "outputs": [],
   "source": [
    "api_key = \"Bz4FIzutOq4PcUTb0GKRH2j5CrpTV_HGtnqAO8xi3uC1melREgUc8y7TIa8fh6k5wvlNsQxBW8B0PUJzFA9b-MygzvxecQ0WmWEUjJFmiERhg3ymoWcpFI4IKc5uZHYx\""
   ]
  }
 ],
 "metadata": {
  "kernelspec": {
   "display_name": "PythonData",
   "language": "python",
   "name": "pythondata"
  },
  "language_info": {
   "codemirror_mode": {
    "name": "ipython",
    "version": 3
   },
   "file_extension": ".py",
   "mimetype": "text/x-python",
   "name": "python",
   "nbconvert_exporter": "python",
   "pygments_lexer": "ipython3",
   "version": "3.9.13"
  }
 },
 "nbformat": 4,
 "nbformat_minor": 5
}
